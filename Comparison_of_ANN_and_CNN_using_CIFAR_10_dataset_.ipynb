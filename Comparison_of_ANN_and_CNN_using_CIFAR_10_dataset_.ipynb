{
  "nbformat": 4,
  "nbformat_minor": 0,
  "metadata": {
    "colab": {
      "provenance": [],
      "gpuType": "T4"
    },
    "kernelspec": {
      "name": "python3",
      "display_name": "Python 3"
    },
    "language_info": {
      "name": "python"
    },
    "accelerator": "GPU"
  },
  "cells": [
    {
      "cell_type": "code",
      "execution_count": 65,
      "metadata": {
        "id": "kH3zO6nCv9iR"
      },
      "outputs": [],
      "source": [
        "import tensorflow as tf\n",
        "from tensorflow import keras\n",
        "from tensorflow.keras import models\n",
        "from tensorflow.keras import layers\n",
        "import matplotlib.pyplot as plt\n",
        "import numpy as np"
      ]
    },
    {
      "cell_type": "markdown",
      "source": [
        "# The CIFAR-10 dataset\n",
        "The CIFAR-10 dataset consists of <b>60000 32x32 </b>colour images in 10 classes, with 6000 images per class. There are 50000 training images and 10000 test images.\n",
        "\n",
        "The dataset is divided into five training batches and one test batch, each with 10000 images. The test batch contains exactly 1000 randomly-selected images from each class.\n",
        "\n",
        "The training batches contain the remaining images in random order, but some training batches may contain more images from one class than another. Between them, the training batches contain exactly 5000 images from each class.\n"
      ],
      "metadata": {
        "id": "z00uIfukxsJW"
      }
    },
    {
      "cell_type": "markdown",
      "source": [
        "* <b>data</b> -- a 10000x3072 numpy array of uint8s. Each row of the array stores a 32x32 colour image. The first 1024 entries contain the red channel values, the next 1024 the green, and the final 1024 the blue. The image is stored in row-major order, so that the first 32 entries of the array are the red channel values of the first row of the image.\n",
        "* <b>labels</b> -- a list of 10000 numbers in the range 0-9. The number at index i indicates the label of the ith image in the array data.\n",
        "\n",
        "The dataset contains another file, called batches.meta. It too contains a Python dictionary object. It has the following entries:\n",
        "* <b>label_names</b> -- a 10-element list which gives meaningful names to the numeric labels in the labels array described above. For example, label_names[0] == \"airplane\", label_names[4] == \"automobile\", etc."
      ],
      "metadata": {
        "id": "ttFM6ZL8yWtt"
      }
    },
    {
      "cell_type": "code",
      "source": [
        "(X_train, y_train), (X_test,y_test) = keras.datasets.cifar10.load_data()\n",
        "X_train.shape"
      ],
      "metadata": {
        "colab": {
          "base_uri": "https://localhost:8080/"
        },
        "id": "PxpF_aiCxydz",
        "outputId": "f29c7a37-de79-49a8-e5ab-5abbcb4f7a37"
      },
      "execution_count": 66,
      "outputs": [
        {
          "output_type": "execute_result",
          "data": {
            "text/plain": [
              "(50000, 32, 32, 3)"
            ]
          },
          "metadata": {},
          "execution_count": 66
        }
      ]
    },
    {
      "cell_type": "code",
      "source": [
        "X_test.shape"
      ],
      "metadata": {
        "colab": {
          "base_uri": "https://localhost:8080/"
        },
        "id": "b46ZyvZfy-St",
        "outputId": "2e179e4f-bd5a-4a19-87ed-4297ad16e237"
      },
      "execution_count": 67,
      "outputs": [
        {
          "output_type": "execute_result",
          "data": {
            "text/plain": [
              "(10000, 32, 32, 3)"
            ]
          },
          "metadata": {},
          "execution_count": 67
        }
      ]
    },
    {
      "cell_type": "code",
      "source": [
        "plt.imshow(X_train[8])"
      ],
      "metadata": {
        "colab": {
          "base_uri": "https://localhost:8080/",
          "height": 447
        },
        "id": "7evrLUvOy-Od",
        "outputId": "dae31809-2e01-462b-d5bd-2b5ec429dcf9"
      },
      "execution_count": 68,
      "outputs": [
        {
          "output_type": "execute_result",
          "data": {
            "text/plain": [
              "<matplotlib.image.AxesImage at 0x7a6efe17c190>"
            ]
          },
          "metadata": {},
          "execution_count": 68
        },
        {
          "output_type": "display_data",
          "data": {
            "text/plain": [
              "<Figure size 640x480 with 1 Axes>"
            ],
            "image/png": "[encoded data removed]"
          },
          "metadata": {}
        }
      ]
    },
    {
      "cell_type": "code",
      "source": [
        "X_train = X_train / 255.0\n",
        "X_test = X_test / 255.0"
      ],
      "metadata": {
        "id": "TZ4yjpt_y-MW"
      },
      "execution_count": 69,
      "outputs": []
    },
    {
      "cell_type": "markdown",
      "source": [
        "# Building an ANN model"
      ],
      "metadata": {
        "id": "KV7ZGQDW0UHK"
      }
    },
    {
      "cell_type": "code",
      "source": [
        "ann = models.Sequential([ layers.Flatten(input_shape=(32,32,3)),\n",
        "                         layers.Dense(3000, activation='relu'),\n",
        "                         layers.Dense(1000, activation='relu'),\n",
        "                         layers.Dense(10, activation='sigmoid')\n",
        "])"
      ],
      "metadata": {
        "id": "2z5sh1m50SlC"
      },
      "execution_count": 70,
      "outputs": []
    },
    {
      "cell_type": "code",
      "source": [
        "ann.compile(optimizer='SGD', loss='sparse_categorical_crossentropy', metrics=['accuracy'])\n"
      ],
      "metadata": {
        "id": "nAHP9Tkr0ShX"
      },
      "execution_count": 71,
      "outputs": []
    },
    {
      "cell_type": "code",
      "source": [
        "ann.fit(X_train, y_train, epochs=10)"
      ],
      "metadata": {
        "colab": {
          "base_uri": "https://localhost:8080/"
        },
        "id": "TeI3W_OK0ScT",
        "outputId": "f711c4eb-9858-4eb7-f2ed-99dbe908bf93"
      },
      "execution_count": 72,
      "outputs": [
        {
          "output_type": "stream",
          "name": "stdout",
          "text": [
            "Epoch 1/10\n",
            "1563/1563 [==============================] - 8s 4ms/step - loss: 1.8129 - accuracy: 0.3545\n",
            "Epoch 2/10\n",
            "1563/1563 [==============================] - 6s 4ms/step - loss: 1.6240 - accuracy: 0.4258\n",
            "Epoch 3/10\n",
            "1563/1563 [==============================] - 7s 4ms/step - loss: 1.5395 - accuracy: 0.4575\n",
            "Epoch 4/10\n",
            "1563/1563 [==============================] - 7s 4ms/step - loss: 1.4813 - accuracy: 0.4765\n",
            "Epoch 5/10\n",
            "1563/1563 [==============================] - 7s 4ms/step - loss: 1.4325 - accuracy: 0.4957\n",
            "Epoch 6/10\n",
            "1563/1563 [==============================] - 7s 4ms/step - loss: 1.3877 - accuracy: 0.5123\n",
            "Epoch 7/10\n",
            "1563/1563 [==============================] - 6s 4ms/step - loss: 1.3502 - accuracy: 0.5256\n",
            "Epoch 8/10\n",
            "1563/1563 [==============================] - 7s 4ms/step - loss: 1.3160 - accuracy: 0.5390\n",
            "Epoch 9/10\n",
            "1563/1563 [==============================] - 6s 4ms/step - loss: 1.2813 - accuracy: 0.5514\n",
            "Epoch 10/10\n",
            "1563/1563 [==============================] - 7s 4ms/step - loss: 1.2523 - accuracy: 0.5606\n"
          ]
        },
        {
          "output_type": "execute_result",
          "data": {
            "text/plain": [
              "<keras.callbacks.History at 0x7a6efe01dd20>"
            ]
          },
          "metadata": {},
          "execution_count": 72
        }
      ]
    },
    {
      "cell_type": "markdown",
      "source": [
        "Here we have seen that by using <b>ANN</b>, we got <b>accuracy very less</b> that is **56%** and also loss is **1.25** that is not preferable."
      ],
      "metadata": {
        "id": "RFkPl6Ev1Tql"
      }
    },
    {
      "cell_type": "markdown",
      "source": [
        "Let's checkout using CNN"
      ],
      "metadata": {
        "id": "NcbzbNBy1Tcq"
      }
    },
    {
      "cell_type": "markdown",
      "source": [
        "# Building an CNN model"
      ],
      "metadata": {
        "id": "7-XmfGNo2gUy"
      }
    },
    {
      "cell_type": "code",
      "source": [
        "cnn = models.Sequential([\n",
        "layers.Conv2D(filters=32, kernel_size=(3, 3), activation='relu', input_shape=(32, 32, 3)),\n",
        "layers.MaxPooling2D((2, 2)),\n",
        "layers.Conv2D(filters=64, kernel_size=(3, 3), activation='relu'),\n",
        "layers.MaxPooling2D((2, 2)),\n",
        "layers.Flatten(),\n",
        "layers.Dense(64, activation='relu'),\n",
        "layers.Dense(10, activation='softmax')\n",
        "])"
      ],
      "metadata": {
        "id": "kJ5ILy6d0SZy"
      },
      "execution_count": 84,
      "outputs": []
    },
    {
      "cell_type": "code",
      "source": [
        "cnn.compile(optimizer='adam',\n",
        "loss='sparse_categorical_crossentropy',\n",
        "metrics=['accuracy'])\n",
        "cnn.fit(X_train, y_train, epochs=10)"
      ],
      "metadata": {
        "colab": {
          "base_uri": "https://localhost:8080/"
        },
        "id": "j_3xCl342t1x",
        "outputId": "3ea04c4d-c7a2-42b1-a5e9-c6ffe28030fa"
      },
      "execution_count": 85,
      "outputs": [
        {
          "output_type": "stream",
          "name": "stdout",
          "text": [
            "Epoch 1/10\n",
            "1563/1563 [==============================] - 8s 4ms/step - loss: 1.4660 - accuracy: 0.4709\n",
            "Epoch 2/10\n",
            "1563/1563 [==============================] - 7s 4ms/step - loss: 1.1290 - accuracy: 0.6041\n",
            "Epoch 3/10\n",
            "1563/1563 [==============================] - 6s 4ms/step - loss: 0.9945 - accuracy: 0.6547\n",
            "Epoch 4/10\n",
            "1563/1563 [==============================] - 7s 4ms/step - loss: 0.9128 - accuracy: 0.6821\n",
            "Epoch 5/10\n",
            "1563/1563 [==============================] - 6s 4ms/step - loss: 0.8561 - accuracy: 0.7023\n",
            "Epoch 6/10\n",
            "1563/1563 [==============================] - 7s 4ms/step - loss: 0.8014 - accuracy: 0.7205\n",
            "Epoch 7/10\n",
            "1563/1563 [==============================] - 6s 4ms/step - loss: 0.7548 - accuracy: 0.7373\n",
            "Epoch 8/10\n",
            "1563/1563 [==============================] - 7s 4ms/step - loss: 0.7125 - accuracy: 0.7500\n",
            "Epoch 9/10\n",
            "1563/1563 [==============================] - 8s 5ms/step - loss: 0.6738 - accuracy: 0.7659\n",
            "Epoch 10/10\n",
            "1563/1563 [==============================] - 6s 4ms/step - loss: 0.6324 - accuracy: 0.7810\n"
          ]
        },
        {
          "output_type": "execute_result",
          "data": {
            "text/plain": [
              "<keras.callbacks.History at 0x7a6efdee81c0>"
            ]
          },
          "metadata": {},
          "execution_count": 85
        }
      ]
    },
    {
      "cell_type": "markdown",
      "source": [
        "And here we can see that the our model built very good using CNN  as compare to ANN. Thats why CNN prefer for image dataset instead of ANN.\n",
        "\n",
        "By using **CNN** we got **accuacy 78%** that is much good and  **loss is 0.63** which is low as compare to ANN so, According to above comparision of ANN and CNN,  we will go for CNN for image dataset.\n",
        "\n"
      ],
      "metadata": {
        "id": "wlg81XSn3Mwz"
      }
    },
    {
      "cell_type": "code",
      "source": [
        "cnn.evaluate(X_test,y_test)\n"
      ],
      "metadata": {
        "colab": {
          "base_uri": "https://localhost:8080/"
        },
        "id": "OYaNewN62tpO",
        "outputId": "8aa6d6f1-952e-41b6-a402-79180c920653"
      },
      "execution_count": 75,
      "outputs": [
        {
          "output_type": "stream",
          "name": "stdout",
          "text": [
            "313/313 [==============================] - 1s 3ms/step - loss: 0.9373 - accuracy: 0.6823\n"
          ]
        },
        {
          "output_type": "execute_result",
          "data": {
            "text/plain": [
              "[0.9373019337654114, 0.6822999715805054]"
            ]
          },
          "metadata": {},
          "execution_count": 75
        }
      ]
    },
    {
      "cell_type": "markdown",
      "source": [
        "# Make Prediction"
      ],
      "metadata": {
        "id": "9nIbut8J81mx"
      }
    },
    {
      "cell_type": "code",
      "source": [
        "classes = [\"airplane\",\"automobile\",\"bird\",\"cat\",\"deer\",\"dog\",\"frog\",\"horse\",\"ship\",\"truck\"]"
      ],
      "metadata": {
        "id": "spsYey8d7wgj"
      },
      "execution_count": 76,
      "outputs": []
    },
    {
      "cell_type": "code",
      "source": [
        "def plot_sample(X, y, index):\n",
        "    plt.figure(figsize = (15,2))\n",
        "    plt.imshow(X[index])\n",
        "    plt.xlabel(classes[y[index]])"
      ],
      "metadata": {
        "id": "flGGcH5q7wd6"
      },
      "execution_count": 77,
      "outputs": []
    },
    {
      "cell_type": "code",
      "source": [
        "y_pred = cnn.predict(X_test)\n",
        "y_pred[:5]"
      ],
      "metadata": {
        "colab": {
          "base_uri": "https://localhost:8080/"
        },
        "id": "mUvvuyjg719S",
        "outputId": "b43bd26a-8c8c-4aa4-d303-bbc60229328f"
      },
      "execution_count": 78,
      "outputs": [
        {
          "output_type": "stream",
          "name": "stdout",
          "text": [
            "313/313 [==============================] - 1s 2ms/step\n"
          ]
        },
        {
          "output_type": "execute_result",
          "data": {
            "text/plain": [
              "array([[3.2291345e-03, 1.9461836e-04, 2.0708079e-03, 6.5113372e-01,\n",
              "        1.2219420e-03, 5.0582558e-02, 7.5829437e-04, 9.7849981e-05,\n",
              "        2.9050839e-01, 2.0279281e-04],\n",
              "       [7.3894416e-03, 2.7255094e-01, 3.4677621e-05, 8.0785931e-06,\n",
              "        1.9981396e-06, 3.5435065e-07, 3.2222545e-07, 1.6196063e-06,\n",
              "        7.1627182e-01, 3.7407912e-03],\n",
              "       [1.2774023e-01, 8.2430847e-02, 4.5987763e-03, 3.3338615e-03,\n",
              "        3.0069721e-03, 2.3679256e-04, 2.0330188e-04, 1.3329330e-02,\n",
              "        7.4047667e-01, 2.4643159e-02],\n",
              "       [9.1348475e-01, 2.0845351e-03, 2.5802103e-03, 2.0253703e-03,\n",
              "        1.3103040e-02, 2.7045104e-05, 4.7731322e-05, 9.5374521e-04,\n",
              "        6.5603487e-02, 9.0279063e-05],\n",
              "       [7.0908027e-07, 2.1326031e-07, 3.4261544e-03, 1.0786828e-01,\n",
              "        3.0973023e-01, 3.0621360e-03, 5.7583481e-01, 2.6778496e-05,\n",
              "        4.6625406e-05, 4.0006435e-06]], dtype=float32)"
            ]
          },
          "metadata": {},
          "execution_count": 78
        }
      ]
    },
    {
      "cell_type": "code",
      "source": [
        "y_classes = [np.argmax(element) for element in y_pred]\n",
        "y_classes[:5]"
      ],
      "metadata": {
        "colab": {
          "base_uri": "https://localhost:8080/"
        },
        "id": "krmWnJyh716v",
        "outputId": "42c1edce-4529-470d-ebce-6f103e400fce"
      },
      "execution_count": 79,
      "outputs": [
        {
          "output_type": "execute_result",
          "data": {
            "text/plain": [
              "[3, 8, 8, 0, 6]"
            ]
          },
          "metadata": {},
          "execution_count": 79
        }
      ]
    },
    {
      "cell_type": "code",
      "source": [
        "y_test=y_test.reshape(-1,)\n",
        "y_test[:5]"
      ],
      "metadata": {
        "colab": {
          "base_uri": "https://localhost:8080/"
        },
        "id": "-iEu2HP5789h",
        "outputId": "427fa58e-9c9d-40ca-93a8-80dde5602b28"
      },
      "execution_count": 80,
      "outputs": [
        {
          "output_type": "execute_result",
          "data": {
            "text/plain": [
              "array([3, 8, 8, 0, 6], dtype=uint8)"
            ]
          },
          "metadata": {},
          "execution_count": 80
        }
      ]
    },
    {
      "cell_type": "code",
      "source": [
        "y_test[:5]"
      ],
      "metadata": {
        "colab": {
          "base_uri": "https://localhost:8080/"
        },
        "id": "zLSjR_0M7861",
        "outputId": "5696905e-7dd9-4d3f-e0b4-5e17e4f948a1"
      },
      "execution_count": 81,
      "outputs": [
        {
          "output_type": "execute_result",
          "data": {
            "text/plain": [
              "array([3, 8, 8, 0, 6], dtype=uint8)"
            ]
          },
          "metadata": {},
          "execution_count": 81
        }
      ]
    },
    {
      "cell_type": "code",
      "source": [
        "plot_sample(X_test, y_test,1)"
      ],
      "metadata": {
        "colab": {
          "base_uri": "https://localhost:8080/",
          "height": 237
        },
        "id": "y4SOiJfb784L",
        "outputId": "cc49372c-34b7-4a16-de82-3fda42a614e8"
      },
      "execution_count": 82,
      "outputs": [
        {
          "output_type": "display_data",
          "data": {
            "text/plain": [
              "<Figure size 1500x200 with 1 Axes>"
            ],
            "image/png": "[encoded data removed]"
          },
          "metadata": {}
        }
      ]
    },
    {
      "cell_type": "code",
      "source": [
        "classes[y_classes[1]]"
      ],
      "metadata": {
        "colab": {
          "base_uri": "https://localhost:8080/",
          "height": 35
        },
        "id": "RQn8Q0xD8F_3",
        "outputId": "7e9f4090-b8a1-4e20-ffd0-8a0aa63a4350"
      },
      "execution_count": 83,
      "outputs": [
        {
          "output_type": "execute_result",
          "data": {
            "text/plain": [
              "'ship'"
            ],
            "application/vnd.google.colaboratory.intrinsic+json": {
              "type": "string"
            }
          },
          "metadata": {},
          "execution_count": 83
        }
      ]
    },
    {
      "cell_type": "markdown",
      "source": [
        "# Interpretation\n",
        "\n",
        "Artificial Neural Networks (**ANNs**) and Convolutional Neural Networks (**CNNs**) are both types of neural networks used in machine learning, but they are designed for different types of data and tasks. When it comes to image classification tasks like CIFAR-10, CNNs are preferred for several reasons:\n",
        "\n",
        "* **Spatial Hierarchies and Local Patterns:** CNNs are specifically designed to work well with grid-like data, such as images. They excel at capturing spatial hierarchies and local patterns in data. This is crucial for image data because objects in images are composed of local features that can be detected through convolutional layers.\n",
        "\n",
        "* **Convolutional Layers:** CNNs have convolutional layers that automatically learn features from the data. These layers are capable of detecting edges, textures, and more complex features in an image. In contrast, ANNs treat each input feature (e.g., pixel) as independent, which doesn't capture the spatial relationships in images effectively.\n",
        "\n",
        "* **Parameter Sharing:** CNNs use parameter sharing, which means the same set of weights is applied to different parts of the input data. This reduces the number of parameters compared to ANNs, making CNNs computationally efficient and less prone to overfitting, which is especially important when you have limited training data like CIFAR-10.\n",
        "\n",
        "* **Pooling Layers:** CNNs often include pooling layers that help reduce the spatial dimensions of the data while retaining essential information. This downsampling allows the network to focus on the most relevant features and speeds up computation."
      ],
      "metadata": {
        "id": "O-tUO5WC-MfA"
      }
    },
    {
      "cell_type": "markdown",
      "source": [],
      "metadata": {
        "id": "Xk-9IWmh_Snh"
      }
    }
  ]
}